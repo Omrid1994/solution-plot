{
 "cells": [
  {
   "cell_type": "code",
   "execution_count": 1,
   "id": "140cee72-4663-4559-a5f3-0e3a64ecfc81",
   "metadata": {},
   "outputs": [
    {
     "data": {
      "application/vnd.jupyter.widget-view+json": {
       "model_id": "83c66c5d0f67463abfd3b34558cd95f7",
       "version_major": 2,
       "version_minor": 0
      },
      "text/plain": [
       "interactive(children=(FloatSlider(value=0.0, description='a₁', max=5.0, min=-5.0), FloatSlider(value=0.0, desc…"
      ]
     },
     "metadata": {},
     "output_type": "display_data"
    }
   ],
   "source": [
    "# Import necessary libraries\n",
    "import numpy as np\n",
    "import matplotlib.pyplot as plt\n",
    "import ipywidgets as widgets\n",
    "from IPython.display import display\n",
    "\n",
    "# Define the function y(t)\n",
    "def compute_y(t, a1, b1, a2, b2):\n",
    "    return np.exp((a1 + 1j * b1) * t) + np.exp((a2 + 1j * b2) * t)\n",
    "\n",
    "# Define the updated plotting function\n",
    "def plot_function(a1, b1, a2, b2):\n",
    "    t = np.linspace(0, 15, 1000)  # Extended time range up to t=15\n",
    "    y = compute_y(t, a1, b1, a2, b2)  \n",
    "\n",
    "    # Create the plot\n",
    "    plt.figure(figsize=(8, 5))\n",
    "    plt.plot(t, y.real, label=\"Real Part\", color=\"blue\")  # Only real part\n",
    "    plt.xlabel(\"Time (t)\")\n",
    "    plt.ylabel(\"Real(y(t))\")\n",
    "    plt.title(r\"Real Part of $y(t) = e^{(a_1+ib_1)t} + e^{(a_2+ib_2)t}$\")\n",
    "    plt.legend()\n",
    "    plt.grid(True)\n",
    "    plt.show()\n",
    "\n",
    "# Create interactive sliders\n",
    "a1_slider = widgets.FloatSlider(value=0.0, min=-5, max=5, step=0.1, description=\"a₁\")\n",
    "b1_slider = widgets.FloatSlider(value=0.0, min=-5, max=5, step=0.1, description=\"b₁\")\n",
    "a2_slider = widgets.FloatSlider(value=0.0, min=-5, max=5, step=0.1, description=\"a₂\")\n",
    "b2_slider = widgets.FloatSlider(value=0.0, min=-5, max=5, step=0.1, description=\"b₂\")\n",
    "\n",
    "# Create an interactive widget\n",
    "interactive_plot = widgets.interactive(plot_function, a1=a1_slider, b1=b1_slider, a2=a2_slider, b2=b2_slider)\n",
    "\n",
    "# Display widgets and plot\n",
    "display(interactive_plot)\n"
   ]
  },
  {
   "cell_type": "code",
   "execution_count": null,
   "id": "7f17e1e3-dbcc-4b7b-9fa8-33157257d3d2",
   "metadata": {},
   "outputs": [],
   "source": []
  }
 ],
 "metadata": {
  "kernelspec": {
   "display_name": "Python 3 (ipykernel)",
   "language": "python",
   "name": "python3"
  },
  "language_info": {
   "codemirror_mode": {
    "name": "ipython",
    "version": 3
   },
   "file_extension": ".py",
   "mimetype": "text/x-python",
   "name": "python",
   "nbconvert_exporter": "python",
   "pygments_lexer": "ipython3",
   "version": "3.13.1"
  }
 },
 "nbformat": 4,
 "nbformat_minor": 5
}
