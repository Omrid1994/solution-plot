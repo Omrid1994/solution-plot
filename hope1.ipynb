{
 "cells": [
  {
   "cell_type": "code",
   "execution_count": 1,
   "id": "f226335f-58f9-48a6-9023-b923a419c552",
   "metadata": {},
   "outputs": [
    {
     "data": {
      "application/vnd.jupyter.widget-view+json": {
       "model_id": "df712fb9e4424f59982fcb11e558db11",
       "version_major": 2,
       "version_minor": 0
      },
      "text/plain": [
       "interactive(children=(FloatSlider(value=0.0, description='a', max=2.0, min=-2.0), FloatSlider(value=1.0, descr…"
      ]
     },
     "metadata": {},
     "output_type": "display_data"
    }
   ],
   "source": [
    "# Ensure the interactive plot works with Voilà\n",
    "import numpy as np\n",
    "import matplotlib.pyplot as plt\n",
    "import ipywidgets as widgets\n",
    "from IPython.display import display\n",
    "\n",
    "# Define the function y(t)\n",
    "def compute_y(t, a, b):\n",
    "    return np.exp((a + 1j * b) * t)\n",
    "\n",
    "# Define the plotting function\n",
    "def plot_function(a, b):\n",
    "    t = np.linspace(0, 5, 500)\n",
    "    y = compute_y(t, a, b)\n",
    "\n",
    "    plt.figure(figsize=(8, 5))\n",
    "    plt.plot(t, y.real, label=\"Real Part\")\n",
    "    plt.plot(t, y.imag, label=\"Imaginary Part\", linestyle=\"dashed\")\n",
    "    plt.xlabel(\"t\")\n",
    "    plt.ylabel(\"y(t)\")\n",
    "    plt.title(r\"$y(t) = e^{(a+ib)t}$\")\n",
    "    plt.legend()\n",
    "    plt.grid(True)\n",
    "    plt.show()\n",
    "\n",
    "# Create interactive sliders\n",
    "a_slider = widgets.FloatSlider(value=0.0, min=-2, max=2, step=0.1, description=\"a\")\n",
    "b_slider = widgets.FloatSlider(value=1.0, min=-5, max=5, step=0.1, description=\"b\")\n",
    "\n",
    "interactive_plot = widgets.interactive(plot_function, a=a_slider, b=b_slider)\n",
    "\n",
    "display(interactive_plot)\n"
   ]
  },
  {
   "cell_type": "code",
   "execution_count": null,
   "id": "b9b7b9a0-fc9e-4880-9452-374b71ec24b9",
   "metadata": {},
   "outputs": [],
   "source": []
  }
 ],
 "metadata": {
  "kernelspec": {
   "display_name": "Python 3 (ipykernel)",
   "language": "python",
   "name": "python3"
  },
  "language_info": {
   "codemirror_mode": {
    "name": "ipython",
    "version": 3
   },
   "file_extension": ".py",
   "mimetype": "text/x-python",
   "name": "python",
   "nbconvert_exporter": "python",
   "pygments_lexer": "ipython3",
   "version": "3.13.1"
  }
 },
 "nbformat": 4,
 "nbformat_minor": 5
}
